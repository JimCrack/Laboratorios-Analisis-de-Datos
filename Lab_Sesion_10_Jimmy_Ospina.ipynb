{
  "nbformat": 4,
  "nbformat_minor": 0,
  "metadata": {
    "colab": {
      "provenance": [],
      "authorship_tag": "ABX9TyNOgB8NHuQm0d/rCNE6BcRt",
      "include_colab_link": true
    },
    "kernelspec": {
      "name": "python3",
      "display_name": "Python 3"
    },
    "language_info": {
      "name": "python"
    }
  },
  "cells": [
    {
      "cell_type": "markdown",
      "metadata": {
        "id": "view-in-github",
        "colab_type": "text"
      },
      "source": [
        "<a href=\"https://colab.research.google.com/github/JimCrack/Laboratorios-Analisis-de-Datos/blob/main/Lab_Sesion_10_Jimmy_Ospina.ipynb\" target=\"_parent\"><img src=\"https://colab.research.google.com/assets/colab-badge.svg\" alt=\"Open In Colab\"/></a>"
      ]
    },
    {
      "cell_type": "markdown",
      "source": [
        "1. Salud Digital y Análisis de Datos de Pacientes\n",
        "Se tiene un conjunto de datos sobre pacientes que incluye nombre, edad, fecha de ingreso y resultados de pruebas. Algunos registros están incompletos o contienen errores. Hacer una limpieza de los datos.\n"
      ],
      "metadata": {
        "id": "JzHMQ1JrteNZ"
      }
    },
    {
      "cell_type": "code",
      "execution_count": null,
      "metadata": {
        "colab": {
          "base_uri": "https://localhost:8080/"
        },
        "id": "i_1YqnnQsWy6",
        "outputId": "73ff4759-4449-4fa8-c3c0-bfa0912a0bdd"
      },
      "outputs": [
        {
          "output_type": "stream",
          "name": "stdout",
          "text": [
            "Valores faltantes por columna:\n",
            "Nombre              1\n",
            "Edad                1\n",
            "Fecha Ingreso       0\n",
            "Resultado Prueba    0\n",
            "dtype: int64\n",
            "\n",
            "Fechas de ingreso estandarizadas:\n",
            "  Fecha Ingreso Fecha Ingreso Estandarizada\n",
            "0    2021-01-15                  2021-01-15\n",
            "1    2020-03-12                  2020-03-12\n",
            "2    2022-07-01                  2022-07-01\n",
            "3    2021-12-01                  2021-12-01\n",
            "4    2021-05-20                  2021-05-20\n",
            "5    2020-03-12                  2020-03-12\n",
            "\n",
            "DataFrame después de la limpieza de datos:\n",
            "        Nombre  Edad Fecha Ingreso Resultado Prueba  \\\n",
            "0       Carlos  34.0    2021-01-15         Positivo   \n",
            "1          Ana  29.0    2020-03-12         Negativo   \n",
            "2         Luis  33.0    2022-07-01         Positivo   \n",
            "3        Pedro  45.0    2021-12-01         Positivo   \n",
            "4        María  25.0    2021-05-20         Negativo   \n",
            "5  Desconocido  33.0    2020-03-12         Negativo   \n",
            "\n",
            "  Fecha Ingreso Estandarizada  \n",
            "0                  2021-01-15  \n",
            "1                  2020-03-12  \n",
            "2                  2022-07-01  \n",
            "3                  2021-12-01  \n",
            "4                  2021-05-20  \n",
            "5                  2020-03-12  \n",
            "\n",
            "Resultados de pruebas verificados:\n",
            "0    Positivo\n",
            "1    Negativo\n",
            "2    Positivo\n",
            "3    Positivo\n",
            "4    Negativo\n",
            "5    Negativo\n",
            "Name: Resultado Prueba, dtype: object\n"
          ]
        },
        {
          "output_type": "stream",
          "name": "stderr",
          "text": [
            "<ipython-input-7-fc05ed0f4ad2>:45: FutureWarning: A value is trying to be set on a copy of a DataFrame or Series through chained assignment using an inplace method.\n",
            "The behavior will change in pandas 3.0. This inplace method will never work because the intermediate object on which we are setting values always behaves as a copy.\n",
            "\n",
            "For example, when doing 'df[col].method(value, inplace=True)', try using 'df.method({col: value}, inplace=True)' or df[col] = df[col].method(value) instead, to perform the operation inplace on the original object.\n",
            "\n",
            "\n",
            "  df['Edad'].fillna(round(df['Edad'].mean()), inplace=True)  # Rellenar edad con la media de edades\n",
            "<ipython-input-7-fc05ed0f4ad2>:46: FutureWarning: A value is trying to be set on a copy of a DataFrame or Series through chained assignment using an inplace method.\n",
            "The behavior will change in pandas 3.0. This inplace method will never work because the intermediate object on which we are setting values always behaves as a copy.\n",
            "\n",
            "For example, when doing 'df[col].method(value, inplace=True)', try using 'df.method({col: value}, inplace=True)' or df[col] = df[col].method(value) instead, to perform the operation inplace on the original object.\n",
            "\n",
            "\n",
            "  df['Nombre'].fillna('Desconocido', inplace=True)    # Rellenar nombre faltante con 'Desconocido'\n"
          ]
        }
      ],
      "source": [
        "import pandas as pd\n",
        "import numpy as np\n",
        "\n",
        "# Datos\n",
        "nombres = ['Carlos', 'Ana', 'Luis', 'Pedro', 'María', None]\n",
        "edades = [34, 29, None, 45, 25, 33]\n",
        "fechas_ingreso = ['2021-01-15', '2020/03/12', '2022-07-01',\n",
        "                  '2021/12/01', '2021-05-20', '2020-03-12']\n",
        "resultados_prueba = ['Positivo', 'Negativo', 'Positivo',\n",
        "                     'Positivo', 'Negativo', 'Negativo']\n",
        "\n",
        "# Crear DataFrame\n",
        "data = {\n",
        "    'Nombre': nombres,\n",
        "    'Edad': edades,\n",
        "    'Fecha Ingreso': fechas_ingreso,\n",
        "    'Resultado Prueba': resultados_prueba\n",
        "}\n",
        "\n",
        "df = pd.DataFrame(data)\n",
        "\n",
        "# Paso 1: Identificar y contar valores faltantes\n",
        "missing_values = df.isnull().sum()\n",
        "print(\"Valores faltantes por columna:\")\n",
        "print(missing_values)\n",
        "\n",
        "# Paso 2: Estandarizar el formato de la columna 'Fecha Ingreso'\n",
        "def correct_date_format(date):\n",
        "    for fmt in ('%Y-%m-%d', '%Y/%m/%d', '%d/%m/%Y', '%Y/%d/%m'):\n",
        "        try:\n",
        "            return pd.to_datetime(date, format=fmt)\n",
        "        except ValueError:\n",
        "            pass\n",
        "    return pd.NaT\n",
        "\n",
        "df['Fecha Ingreso'] = df['Fecha Ingreso'].apply(correct_date_format)\n",
        "df['Fecha Ingreso Estandarizada'] = df['Fecha Ingreso'].dt.strftime('%Y-%m-%d')\n",
        "\n",
        "# Mostrar DataFrame con fechas estandarizadas\n",
        "print(\"\\nFechas de ingreso estandarizadas:\")\n",
        "print(df[['Fecha Ingreso', 'Fecha Ingreso Estandarizada']])\n",
        "\n",
        "# Paso 3: Llenar valores faltantes\n",
        "# Rellenar los valores faltantes con un valor por defecto\n",
        "df['Edad'].fillna(round(df['Edad'].mean()), inplace=True)  # Rellenar edad con la media de edades\n",
        "df['Nombre'].fillna('Desconocido', inplace=True)    # Rellenar nombre faltante con 'Desconocido'\n",
        "\n",
        "# Mostrar DataFrame después de la limpieza\n",
        "print(\"\\nDataFrame después de la limpieza de datos:\")\n",
        "print(df)\n",
        "\n",
        "# Paso 4: Verificar resultados (para verificar que no hay errores)\n",
        "# Aquí se verifica que los resultados sean solo 'Positivo' o 'Negativo'\n",
        "valid_results = ['Positivo', 'Negativo']\n",
        "df['Resultado Prueba'] = df['Resultado Prueba'] .apply(lambda x: x if x in valid_results else 'Invalido')\n",
        "\n",
        "print(\"\\nResultados de pruebas verificados:\")\n",
        "print(df['Resultado Prueba'])\n"
      ]
    },
    {
      "cell_type": "markdown",
      "source": [
        "2. Comercio Electrónico y Recomendaciones Personalizadas\n",
        "Se tiene un conjunto de datos sobre transacciones de clientes que incluye el ID del cliente, el producto comprado, la cantidad, el precio y la fecha de la transacción. Algunos registros tienen errores en los precios y fechas.\n"
      ],
      "metadata": {
        "id": "oji7itHeH1q_"
      }
    },
    {
      "cell_type": "code",
      "source": [
        "import pandas as pd\n",
        "import numpy as np\n",
        "\n",
        "# Datos\n",
        "cliente_id = [1, 2, 3, 4, 5]\n",
        "producto = ['A', 'B', 'C', 'D', 'E']\n",
        "cantidad = [10, 20, None, 5, 15]\n",
        "precio = ['100', '200$', '300', 'cuatrocientos', '500']\n",
        "fecha_transaccion = ['2023-01-15', '2023/02/20',\n",
        "                     '2023-03-25', '2023/04/30', '2023-05-10']\n",
        "\n",
        "# Crear DataFrame\n",
        "data = {\n",
        "    'Cliente ID': cliente_id,\n",
        "    'Producto': producto,\n",
        "    'Cantidad': cantidad,\n",
        "    'Precio': precio,\n",
        "    'Fecha Transacción': fecha_transaccion }\n",
        "\n",
        "df = pd.DataFrame(data)\n",
        "\n",
        "# Paso 1: Identificar y corregir errores en los precios\n",
        "def clean_price(value):\n",
        "    try:\n",
        "        # Intentar convertir el valor a un número\n",
        "        return float(value)\n",
        "    except ValueError:\n",
        "        # Manejar valores no numéricos\n",
        "        if value.lower() == 'cuatrocientos':\n",
        "            return 400.0\n",
        "        elif '$' in value:\n",
        "            return float(value.replace('$', ''))\n",
        "    return np.nan\n",
        "\n",
        "df['Precio'] = df['Precio'].apply(clean_price)\n",
        "\n",
        "# Paso 2: Estandarizar el formato de las fechas\n",
        "def correct_date_format(date):\n",
        "    for fmt in ('%Y-%m-%d', '%Y/%m/%d', '%d/%m/%Y', '%Y/%d/%m'):\n",
        "        try:\n",
        "            return pd.to_datetime(date, format=fmt)\n",
        "        except ValueError:\n",
        "            pass\n",
        "    return pd.NaT\n",
        "\n",
        "df['Fecha Transacción'] = df['Fecha Transacción'].apply(correct_date_format)\n",
        "df['Fecha Transacción Estandarizada'] = df['Fecha Transacción'].dt.strftime('%Y-%m-%d')\n",
        "\n",
        "# Paso 3: Rellenar valores faltantes con la media de las cantidades\n",
        "df['Cantidad'].fillna(df['Cantidad'].mean(), inplace=True)\n",
        "\n",
        "# Mostrar DataFrame después de la limpieza\n",
        "print(\"\\nDataFrame después de la limpieza de datos:\")\n",
        "print(df)\n"
      ],
      "metadata": {
        "colab": {
          "base_uri": "https://localhost:8080/"
        },
        "id": "alAIJAehH3BG",
        "outputId": "e10b2164-9e00-4cb8-8c34-21d586eb1adf"
      },
      "execution_count": null,
      "outputs": [
        {
          "output_type": "stream",
          "name": "stdout",
          "text": [
            "\n",
            "DataFrame después de la limpieza de datos:\n",
            "   Cliente ID Producto  Cantidad  Precio Fecha Transacción  \\\n",
            "0           1        A      10.0   100.0        2023-01-15   \n",
            "1           2        B      20.0   200.0        2023-02-20   \n",
            "2           3        C      12.5   300.0        2023-03-25   \n",
            "3           4        D       5.0   400.0        2023-04-30   \n",
            "4           5        E      15.0   500.0        2023-05-10   \n",
            "\n",
            "  Fecha Transacción Estandarizada  \n",
            "0                      2023-01-15  \n",
            "1                      2023-02-20  \n",
            "2                      2023-03-25  \n",
            "3                      2023-04-30  \n",
            "4                      2023-05-10  \n"
          ]
        },
        {
          "output_type": "stream",
          "name": "stderr",
          "text": [
            "<ipython-input-2-03a13106ebcb>:50: FutureWarning: A value is trying to be set on a copy of a DataFrame or Series through chained assignment using an inplace method.\n",
            "The behavior will change in pandas 3.0. This inplace method will never work because the intermediate object on which we are setting values always behaves as a copy.\n",
            "\n",
            "For example, when doing 'df[col].method(value, inplace=True)', try using 'df.method({col: value}, inplace=True)' or df[col] = df[col].method(value) instead, to perform the operation inplace on the original object.\n",
            "\n",
            "\n",
            "  df['Cantidad'].fillna(df['Cantidad'].mean(), inplace=True)\n"
          ]
        }
      ]
    },
    {
      "cell_type": "markdown",
      "source": [
        "Escenario: eres un analista de datos en una pequeña empresa que está recopilando información sobre sus clientes.\n",
        "Tu objetivo es limpiar los datos para que estén listos para el análisis, aplicando las técnicas de limpieza de datos"
      ],
      "metadata": {
        "id": "19KI-7z_Zmux"
      }
    },
    {
      "cell_type": "code",
      "source": [
        "import pandas as pd\n",
        "\n",
        "# Datos iniciales\n",
        "data = {\n",
        "    'Nombre': ['Juan', 'Maria', 'Pedro', 'Ana', 'Luisa', 'Carlos', 'Juan'],\n",
        "    'Edad': [25, 30, None, 29, 28, 200, 25],\n",
        "    'Email': ['juan@mail.com', 'maria@mail.com', 'pedro@mail.com', 'ana@mail.com',\n",
        "              'luisa@mail.com', 'carlos@mail.com', 'juan@mail.com'],\n",
        "    'Pais': ['colombia', 'Colombia', 'Mexico', 'Argentina', 'Colombia',\n",
        "             'Brazil', 'colombia'],\n",
        "    'Genero': ['M', 'F', 'H', 'F', 'Femenino', 'M', 'M'],\n",
        "    'Visitas': [5, 7, 6, 4, 8, 2, 5]}\n",
        "\n",
        "\n",
        "# Crear DataFrame\n",
        "df = pd.DataFrame(data)\n",
        "\n",
        "# Paso 1: Rellenar valores faltantes\n",
        "# Para la edad, rellenamos con la media de edades (redondeada)\n",
        "df['Edad'].fillna(round(df['Edad'].mean()), inplace=True)\n",
        "\n",
        "# Paso 2: Eliminar duplicados\n",
        "df.drop_duplicates(inplace=True)\n",
        "\n",
        "# Paso 3: Estandarizar valores de las columnas\n",
        "# Convertir los valores de 'Pais' a minúsculas para estandarizar\n",
        "df['Pais'] = df['Pais'].str.lower()\n",
        "\n",
        "# Estandarizar el género, Ej: convertir 'Femenino' a 'F')\n",
        "df['Genero'] = df['Genero'].replace({'H': 'M', 'Femenino': 'F'})\n",
        "\n",
        "# Paso 4: Corregir valores inválidos\n",
        "# Corregir edad (suponemos que 200 es un error y lo ajustamos al máximo de 120)\n",
        "df['Edad'] = df['Edad'].apply(lambda x: x if x <= 120 else 120)\n",
        "\n",
        "# Mostrar DataFrame después de la limpieza\n",
        "print(\"\\nDataFrame después de la limpieza de datos:\")\n",
        "print(df)\n"
      ],
      "metadata": {
        "colab": {
          "base_uri": "https://localhost:8080/"
        },
        "id": "nG2vpoTOZ4Cx",
        "outputId": "c0b2a6c4-9b18-45e0-c789-d8214e9a55bf"
      },
      "execution_count": 3,
      "outputs": [
        {
          "output_type": "stream",
          "name": "stdout",
          "text": [
            "\n",
            "DataFrame después de la limpieza de datos:\n",
            "   Nombre   Edad            Email       Pais Genero  Visitas\n",
            "0    Juan   25.0    juan@mail.com   colombia      M        5\n",
            "1   Maria   30.0   maria@mail.com   colombia      F        7\n",
            "2   Pedro   56.0   pedro@mail.com     mexico      M        6\n",
            "3     Ana   29.0     ana@mail.com  argentina      F        4\n",
            "4   Luisa   28.0   luisa@mail.com   colombia      F        8\n",
            "5  Carlos  120.0  carlos@mail.com     brazil      M        2\n"
          ]
        },
        {
          "output_type": "stream",
          "name": "stderr",
          "text": [
            "<ipython-input-3-3d83fd5e91b1>:20: FutureWarning: A value is trying to be set on a copy of a DataFrame or Series through chained assignment using an inplace method.\n",
            "The behavior will change in pandas 3.0. This inplace method will never work because the intermediate object on which we are setting values always behaves as a copy.\n",
            "\n",
            "For example, when doing 'df[col].method(value, inplace=True)', try using 'df.method({col: value}, inplace=True)' or df[col] = df[col].method(value) instead, to perform the operation inplace on the original object.\n",
            "\n",
            "\n",
            "  df['Edad'].fillna(round(df['Edad'].mean()), inplace=True)\n"
          ]
        }
      ]
    }
  ]
}