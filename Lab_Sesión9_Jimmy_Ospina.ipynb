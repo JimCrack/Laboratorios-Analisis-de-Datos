{
  "nbformat": 4,
  "nbformat_minor": 0,
  "metadata": {
    "colab": {
      "provenance": [],
      "authorship_tag": "ABX9TyPxCsYo+qGyRgyLeE1IUP9R",
      "include_colab_link": true
    },
    "kernelspec": {
      "name": "python3",
      "display_name": "Python 3"
    },
    "language_info": {
      "name": "python"
    }
  },
  "cells": [
    {
      "cell_type": "markdown",
      "metadata": {
        "id": "view-in-github",
        "colab_type": "text"
      },
      "source": [
        "<a href=\"https://colab.research.google.com/github/JimCrack/Laboratorios-Analisis-de-Datos/blob/main/Lab_Sesi%C3%B3n9_Jimmy_Ospina.ipynb\" target=\"_parent\"><img src=\"https://colab.research.google.com/assets/colab-badge.svg\" alt=\"Open In Colab\"/></a>"
      ]
    },
    {
      "cell_type": "markdown",
      "source": [
        "1. Se tiene un conjunto de datos sobre empleados que incluye su nombre, edad, salario y fecha de ingreso. Se requiere implementar algunos pasos de aseguramiento de la calidad de los datos, como la verificación de valores faltantes y la validación de formatos de datos."
      ],
      "metadata": {
        "id": "OL6bHYBZveqL"
      }
    },
    {
      "cell_type": "code",
      "source": [
        "import pandas as pd\n",
        "import numpy as np\n",
        "\n",
        "# Datos\n",
        "nombres = ['Juan', 'Ana', 'Pedro', 'María', 'Luis', 'Ana']\n",
        "edades = [28, 34, None, 45, 38, 34]\n",
        "salarios = ['3000', '4000', 'cinco mil', '4500', '4000', '5000']\n",
        "fechas_ingreso = ['2021-01-15', '2020/03/12', '2022-07-01', '2021/12/01',\n",
        "                  '2021-05-20', '2020-03-12']\n",
        "\n",
        "# Crear DataFrame\n",
        "data = {\n",
        "    'Nombre': nombres,\n",
        "    'Edad': edades,\n",
        "    'Salario': salarios,\n",
        "    'Fecha Ingreso': fechas_ingreso\n",
        "}\n",
        "\n",
        "df = pd.DataFrame(data)\n",
        "\n",
        "# Paso 1: Identificar y contar valores faltantes\n",
        "missing_values = df.isnull().sum()\n",
        "print(\"Valores faltantes por columna:\")\n",
        "print(missing_values)\n",
        "\n",
        "# Paso 2: Verificar formato de la columna 'Salario'\n",
        "def is_numeric(value):\n",
        "    try:\n",
        "        float(value)\n",
        "        return True\n",
        "    except ValueError:\n",
        "        return False\n",
        "\n",
        "df['Salario Numerico'] = df['Salario'].apply(is_numeric)\n",
        "non_numeric_salaries = df[~df['Salario Numerico']]\n",
        "print(\"\\nValores de salario no numéricos:\")\n",
        "print(non_numeric_salaries['Salario'])\n",
        "\n",
        "# Paso 3: Validar y estandarizar el formato de la columna 'Fecha Ingreso'\n",
        "def correct_date_format(date):\n",
        "    for fmt in ('%Y-%m-%d', '%Y/%m/%d', '%d/%m/%Y', '%Y/%d/%m'):\n",
        "        try:\n",
        "            return pd.to_datetime(date, format=fmt)\n",
        "        except ValueError:\n",
        "            pass\n",
        "    return pd.NaT\n",
        "\n",
        "df['Fecha Ingreso'] = df['Fecha Ingreso'].apply(correct_date_format)\n",
        "df['Fecha Ingreso Estandarizada'] = df['Fecha Ingreso'].dt.strftime('%Y-%m-%d')\n",
        "print(\"\\nFechas de ingreso estandarizadas:\")\n",
        "print(df[['Fecha Ingreso', 'Fecha Ingreso Estandarizada']])\n"
      ],
      "metadata": {
        "colab": {
          "base_uri": "https://localhost:8080/"
        },
        "id": "bB8_NXWT5SjM",
        "outputId": "043da96c-d26f-403f-d4ff-8ac364f10c65"
      },
      "execution_count": 4,
      "outputs": [
        {
          "output_type": "stream",
          "name": "stdout",
          "text": [
            "Valores faltantes por columna:\n",
            "Nombre           0\n",
            "Edad             1\n",
            "Salario          0\n",
            "Fecha Ingreso    0\n",
            "dtype: int64\n",
            "\n",
            "Valores de salario no numéricos:\n",
            "2    cinco mil\n",
            "Name: Salario, dtype: object\n",
            "\n",
            "Fechas de ingreso estandarizadas:\n",
            "  Fecha Ingreso Fecha Ingreso Estandarizada\n",
            "0    2021-01-15                  2021-01-15\n",
            "1    2020-03-12                  2020-03-12\n",
            "2    2022-07-01                  2022-07-01\n",
            "3    2021-12-01                  2021-12-01\n",
            "4    2021-05-20                  2021-05-20\n",
            "5    2020-03-12                  2020-03-12\n"
          ]
        }
      ]
    },
    {
      "cell_type": "markdown",
      "source": [
        "2. Se tiene un conjunto de datos sobre empleados que incluye su nombre, edad, salario, puesto de trabajo y fecha de ingreso. Se requiere implementar aseguramiento de la calidad de los datos, verificando la completitud de los datos, la validez de los salarios y la consistencia de las fechas de ingreso."
      ],
      "metadata": {
        "id": "39SMcPefJMp4"
      }
    },
    {
      "cell_type": "code",
      "source": [
        "import pandas as pd\n",
        "import numpy as np\n",
        "\n",
        "# Datos\n",
        "nombres = ['Juan', 'Ana', 'Pedro', 'María', 'Luis', 'Carla']\n",
        "edades = [28, None, 40, 45, 38, 34]\n",
        "salarios = ['3000', '4000', '4500', 'cuatro mil', '5000', '4000']\n",
        "cargos = ['Analista', 'Gerente', 'Desarrollador', 'Gerente', 'Analista', None]\n",
        "fechas_ingreso = ['2021-01-15', '2020/03/12', '2022-07-01', '2021/12/01', None,\n",
        "                 '2020-03-12']\n",
        "\n",
        "# Crear DataFrame\n",
        "data = {\n",
        "    'Nombre': nombres,\n",
        "    'Edad': edades,\n",
        "    'Salario': salarios,\n",
        "    'Cargo': cargos,\n",
        "    'Fecha Ingreso': fechas_ingreso\n",
        "}\n",
        "\n",
        "df = pd.DataFrame(data)\n",
        "\n",
        "# Paso 1: Identificar y contar valores faltantes\n",
        "missing_values = df.isnull().sum()\n",
        "print(\"Valores faltantes por columna:\")\n",
        "print(missing_values)\n",
        "\n",
        "# Paso 2: Verificar formato de la columna 'Salario'\n",
        "def is_numeric(value):\n",
        "    try:\n",
        "        float(value)\n",
        "        return True\n",
        "    except ValueError:\n",
        "        return False\n",
        "\n",
        "df['Salario Numerico'] = df['Salario'].apply(is_numeric)\n",
        "non_numeric_salaries = df[~df['Salario Numerico']]\n",
        "print(\"\\nValores de salario no numéricos:\")\n",
        "print(non_numeric_salaries['Salario'])\n",
        "\n",
        "# Paso 3: Validar y estandarizar el formato de la columna 'Fecha Ingreso'\n",
        "def correct_date_format(date):\n",
        "    for fmt in ('%Y-%m-%d', '%Y/%m/%d', '%d/%m/%Y', '%Y/%d/%m'):\n",
        "        try:\n",
        "            return pd.to_datetime(date, format=fmt)\n",
        "        except ValueError:\n",
        "            pass\n",
        "    return pd.NaT\n",
        "\n",
        "df['Fecha Ingreso'] = df['Fecha Ingreso'].apply(correct_date_format)\n",
        "df['Fecha Ingreso Estandarizada'] = df['Fecha Ingreso'].dt.strftime('%Y-%m-%d')\n",
        "print(\"\\nFechas de ingreso estandarizadas:\")\n",
        "print(df[['Fecha Ingreso', 'Fecha Ingreso Estandarizada']])\n",
        "\n",
        "# Paso 4: Verificar que no haya valores faltantes en la columna 'Cargo'\n",
        "missing_cargo = df['Cargo'].isnull().sum()\n",
        "print(f\"\\nValores faltantes en la columna 'Cargo': {missing_cargo}\")\n"
      ],
      "metadata": {
        "colab": {
          "base_uri": "https://localhost:8080/"
        },
        "id": "hwOtCjphJOBA",
        "outputId": "a0266d44-0cae-441c-e332-67404696d81f"
      },
      "execution_count": 6,
      "outputs": [
        {
          "output_type": "stream",
          "name": "stdout",
          "text": [
            "Valores faltantes por columna:\n",
            "Nombre           0\n",
            "Edad             1\n",
            "Salario          0\n",
            "Cargo            1\n",
            "Fecha Ingreso    1\n",
            "dtype: int64\n",
            "\n",
            "Valores de salario no numéricos:\n",
            "3    cuatro mil\n",
            "Name: Salario, dtype: object\n",
            "\n",
            "Fechas de ingreso estandarizadas:\n",
            "  Fecha Ingreso Fecha Ingreso Estandarizada\n",
            "0    2021-01-15                  2021-01-15\n",
            "1    2020-03-12                  2020-03-12\n",
            "2    2022-07-01                  2022-07-01\n",
            "3    2021-12-01                  2021-12-01\n",
            "4           NaT                         NaN\n",
            "5    2020-03-12                  2020-03-12\n",
            "\n",
            "Valores faltantes en la columna 'Cargo': 1\n"
          ]
        }
      ]
    },
    {
      "cell_type": "markdown",
      "source": [
        "2 Ejercicio de la práctica 2.\n",
        "\n",
        "1. Se requiere validar los datos: Precios de Productos, se tiene una lista de productos con los respectivos precios y se necesita validar que ningún precio sea negativo o nulo.\n"
      ],
      "metadata": {
        "id": "JQWX3O-tSsU5"
      }
    },
    {
      "cell_type": "code",
      "source": [
        "import pandas as pd\n",
        "import numpy as np\n",
        "\n",
        "# Datos\n",
        "productos = ['Producto A', 'Producto B', 'Producto C', 'Producto D']\n",
        "precios = [150, -25, 100, None]\n",
        "\n",
        "# Crear DataFrame\n",
        "data = {\n",
        "    'Producto': productos,\n",
        "    'Precio': precios\n",
        "}\n",
        "\n",
        "df = pd.DataFrame(data)\n",
        "\n",
        "# Paso 1: Crear un DataFrame con productos y precios (ya hecho arriba)\n",
        "\n",
        "# Paso 2: Validar que todos los precios sean mayores o iguales a cero y no nulos\n",
        "precios_invalidos = df[(df['Precio'].isnull()) | (df['Precio'] < 0)]\n",
        "\n",
        "# Paso 3: Mostrar los productos con precios inválidos\n",
        "print(\"Productos con precios inválidos:\")\n",
        "print(precios_invalidos)\n"
      ],
      "metadata": {
        "colab": {
          "base_uri": "https://localhost:8080/"
        },
        "id": "qyjmNN8LStMj",
        "outputId": "4ed1fe25-05c8-4266-c308-af21b7044cdf"
      },
      "execution_count": 7,
      "outputs": [
        {
          "output_type": "stream",
          "name": "stdout",
          "text": [
            "Productos con precios inválidos:\n",
            "     Producto  Precio\n",
            "1  Producto B   -25.0\n",
            "3  Producto D     NaN\n"
          ]
        }
      ]
    },
    {
      "cell_type": "markdown",
      "source": [
        "2. Se requiere validar los datos duplicados: Clientes en una Base de Datos, se tiene una lista de clientes donde algunos registros tienen el mismo ID y necesitas identificarlos.\n",
        "\n"
      ],
      "metadata": {
        "id": "aMkkDYImUC6b"
      }
    },
    {
      "cell_type": "code",
      "source": [
        "import pandas as pd\n",
        "\n",
        "# Datos\n",
        "id_cliente = [1, 2, 3, 2, 4]\n",
        "nombres = ['Ana', 'Luis', 'María', 'Luis', 'Carlos']\n",
        "\n",
        "# Crear DataFrame\n",
        "data = {\n",
        "    'ID Cliente': id_cliente,\n",
        "    'Nombre': nombres\n",
        "}\n",
        "\n",
        "df = pd.DataFrame(data)\n",
        "\n",
        "# Paso 1: Crear un DataFrame con información de clientes (ya hecho arriba)\n",
        "\n",
        "# Paso 2: Verificar si hay duplicados en la columna de ID del cliente\n",
        "duplicados = df[df.duplicated(subset='ID Cliente', keep=False)]\n",
        "\n",
        "# Paso 3: Mostrar los registros duplicados\n",
        "print(\"Clientes con IDs duplicados:\")\n",
        "print(duplicados)\n"
      ],
      "metadata": {
        "colab": {
          "base_uri": "https://localhost:8080/"
        },
        "id": "ko6LvmTwUEPi",
        "outputId": "09619660-ea6e-474c-98af-7581aa240dde"
      },
      "execution_count": 8,
      "outputs": [
        {
          "output_type": "stream",
          "name": "stdout",
          "text": [
            "Clientes con IDs duplicados:\n",
            "   ID Cliente Nombre\n",
            "1           2   Luis\n",
            "3           2   Luis\n"
          ]
        }
      ]
    },
    {
      "cell_type": "markdown",
      "source": [
        "3. Se requiere tener seguridad en los datos: Encriptación y Desencriptación de Datos Sensibles,se tiene un número de tarjeta de crédito que deseas encriptarpara protegerlo y luego desencriptarlo para el uso."
      ],
      "metadata": {
        "id": "gU42WHlZXI3r"
      }
    },
    {
      "cell_type": "code",
      "source": [
        "from cryptography.fernet import Fernet\n",
        "\n",
        "# Paso 1: Crear una cadena con datos sensibles\n",
        "numero_tarjeta = \"1234-5678-9101-1121\"\n",
        "\n",
        "# Paso 2: Generar una clave para encriptación\n",
        "clave = Fernet.generate_key()\n",
        "cipher_suite = Fernet(clave)\n",
        "\n",
        "# Encriptar los datos\n",
        "numero_tarjeta_encriptado = cipher_suite.encrypt(numero_tarjeta.encode())\n",
        "print(\"Número de tarjeta encriptado:\", numero_tarjeta_encriptado)\n",
        "\n",
        "# Paso 3: Desencriptar los datos\n",
        "numero_tarjeta_desencriptado = cipher_suite.decrypt(numero_tarjeta_encriptado) .decode()\n",
        "print(\"Número de tarjeta desencriptado:\", numero_tarjeta_desencriptado)\n"
      ],
      "metadata": {
        "colab": {
          "base_uri": "https://localhost:8080/"
        },
        "id": "_Pt0i27CXKBY",
        "outputId": "46c671e4-fb05-45d9-8649-829af18441c1"
      },
      "execution_count": 12,
      "outputs": [
        {
          "output_type": "stream",
          "name": "stdout",
          "text": [
            "Número de tarjeta encriptado: b'gAAAAABnOjWt7vI68TwW6bPKMHMhLaEdCAkt5BUUHvm9c2plirG9Gm2BKbW_pXmn0pwXQfHL58Wc5eB8Whg4TOHiDsCQzY-fzvKw07cnTIYHkw0AkpI3qiM='\n",
            "Número de tarjeta desencriptado: 1234-5678-9101-1121\n"
          ]
        }
      ]
    }
  ]
}