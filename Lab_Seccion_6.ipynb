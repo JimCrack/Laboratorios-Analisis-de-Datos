{
  "nbformat": 4,
  "nbformat_minor": 0,
  "metadata": {
    "colab": {
      "provenance": [],
      "authorship_tag": "ABX9TyPBSzlblwWMQ0NXeJkFLAtZ",
      "include_colab_link": true
    },
    "kernelspec": {
      "name": "python3",
      "display_name": "Python 3"
    },
    "language_info": {
      "name": "python"
    }
  },
  "cells": [
    {
      "cell_type": "markdown",
      "metadata": {
        "id": "view-in-github",
        "colab_type": "text"
      },
      "source": [
        "<a href=\"https://colab.research.google.com/github/JimCrack/Laboratorios-Analisis-de-Datos/blob/main/Lab_Seccion_6.ipynb\" target=\"_parent\"><img src=\"https://colab.research.google.com/assets/colab-badge.svg\" alt=\"Open In Colab\"/></a>"
      ]
    },
    {
      "cell_type": "code",
      "source": [
        "# Algoritmo en código \"Preparar té\"\n",
        "\n",
        "Tienes_una_bolsa_te = True\n",
        "Tienes_agua_caliente = True\n",
        "\n",
        "if Tienes_agua_caliente and Tienes_una_bolsa_te:\n",
        "\n",
        "    print(\"Coloca la bolsa de té en la taza\")\n",
        "    print(\"Vierte el agua caliente en la taza\")\n",
        "\n",
        "    print(\"Espera unos minutos\")\n",
        "    print(\"Retira la bolsa de té y disfruta\")\n",
        "else:\n",
        "    print(\"No puedes preparar el té porque falta agua caliente o bolsa de té.\")\n"
      ],
      "metadata": {
        "colab": {
          "base_uri": "https://localhost:8080/"
        },
        "id": "0XniCjbxonGg",
        "outputId": "1f5e1227-0667-4941-9f36-6d31e5cf77c1"
      },
      "execution_count": null,
      "outputs": [
        {
          "output_type": "stream",
          "name": "stdout",
          "text": [
            "Coloca la bolsa de té en la taza\n",
            "Vierte el agua caliente en la taza\n",
            "Espera unos minutos\n",
            "Retira la bolsa de té y disfruta\n"
          ]
        }
      ]
    },
    {
      "cell_type": "code",
      "source": [
        "#Calculo del Promedio de Notas de Quimica\n",
        "\n",
        "class Estudiante:\n",
        "    def __init__(self, nombre, notas):\n",
        "        self.nombre = nombre\n",
        "        self.notas = notas\n",
        "\n",
        "    def calcular_promedio(self):\n",
        "        return sum(self.notas) / len(self.notas)\n",
        "\n",
        "# Datos del estudiante\n",
        "nombre = \"Angela Martinez\"\n",
        "notas = [4.5, 3.8, 4.5, 3.7]\n",
        "\n",
        "# Crear una instancia de la clase Estudiante\n",
        "estudiante = Estudiante(nombre, notas)\n",
        "\n",
        "# Calcular el promedio\n",
        "promedio = estudiante.calcular_promedio()\n",
        "\n",
        "# Imprimir los resultados\n",
        "print(f\"Nombre de Estudiante: {estudiante.nombre}\")\n",
        "print(f\"Notas: {estudiante.notas}\")\n",
        "print(f\"Promedio: {promedio:.2f}\")\n"
      ],
      "metadata": {
        "colab": {
          "base_uri": "https://localhost:8080/"
        },
        "id": "LtSxqt0aouFD",
        "outputId": "a86ab36c-ce25-41c6-bf0f-e23c2e85ca9e"
      },
      "execution_count": null,
      "outputs": [
        {
          "output_type": "stream",
          "name": "stdout",
          "text": [
            "Nombre de Estudiante: Angela Martinez\n",
            "Notas: [4.5, 3.8, 4.5, 3.7]\n",
            "Promedio: 4.12\n"
          ]
        }
      ]
    },
    {
      "cell_type": "markdown",
      "source": [
        "3. Verificar si un Número es Par o Impar: Utiliza condicionales para verificar si un número es par o impar, y operadores para realizar el cálculo."
      ],
      "metadata": {
        "id": "4bBn53KVnTLA"
      }
    },
    {
      "cell_type": "code",
      "source": [
        "# Ingresa un número para saber si es par o impar\n",
        "numero = int(input(\"Ingrese un número: \"))\n",
        "\n",
        "# Comprobar si el número es par o impar\n",
        "if numero % 2 == 0:\n",
        "    print(f\"El número {numero} es par.\")\n",
        "else:\n",
        "    print(f\"El número {numero} es impar.\")\n"
      ],
      "metadata": {
        "colab": {
          "base_uri": "https://localhost:8080/"
        },
        "id": "kXkuYRZanRvH",
        "outputId": "38b513a5-cb58-4f21-9a03-fab9592122a6"
      },
      "execution_count": 3,
      "outputs": [
        {
          "output_type": "stream",
          "name": "stdout",
          "text": [
            "Ingrese un número: 5\n",
            "El número 5 es impar.\n"
          ]
        }
      ]
    },
    {
      "cell_type": "markdown",
      "source": [
        "4. Bucle for para Imprimir Números del 1 al 5: Usar un bucle for para mostrar los números del 1 al 5 y combinar los operadores aritméticos para mostrar si son pares o impares."
      ],
      "metadata": {
        "id": "r49NI0GNwJCj"
      }
    },
    {
      "cell_type": "code",
      "source": [
        "# mostrar los números del 1 al 5, y si son pares o impares\n",
        "for numero in range(1, 6):\n",
        "    # Verifica si el número es par o impar\n",
        "    if numero % 2 == 0:\n",
        "        print(f\"{numero} es par\")\n",
        "    else:\n",
        "        print(f\"{numero} es impar\")\n"
      ],
      "metadata": {
        "colab": {
          "base_uri": "https://localhost:8080/"
        },
        "id": "U9zsH38BwEoq",
        "outputId": "ce0475cc-ae5b-4a5f-c9d0-d44bcd996d68"
      },
      "execution_count": 4,
      "outputs": [
        {
          "output_type": "stream",
          "name": "stdout",
          "text": [
            "1 es impar\n",
            "2 es par\n",
            "3 es impar\n",
            "4 es par\n",
            "5 es impar\n"
          ]
        }
      ]
    },
    {
      "cell_type": "markdown",
      "source": [
        "5. Convertir Grados Celsius a Fahrenheit: Usar una función para convertir grados Celsius a Fahrenheit. La fórmula para la conversión es Fahrenheit = (Celsius * 9/5) + 32."
      ],
      "metadata": {
        "id": "72XFXk91x2xA"
      }
    },
    {
      "cell_type": "code",
      "source": [
        "var1 = float(input(\"Ingresa la temperatura en Celsius: \"))\n",
        "Fahrenheit = (var1 * 9/5) + 32\n",
        "print(\"La temperatura en grados Fahrenheit es: \", Fahrenheit)\n"
      ],
      "metadata": {
        "colab": {
          "base_uri": "https://localhost:8080/"
        },
        "id": "uynhi5tsy57v",
        "outputId": "c495570a-fd49-4706-8a17-cf0b82258fa0"
      },
      "execution_count": 8,
      "outputs": [
        {
          "output_type": "stream",
          "name": "stdout",
          "text": [
            "Ingresa la temperatura en Celsius: 30\n",
            "La temperatura en grados Fahrenheit es:  86.0\n"
          ]
        }
      ]
    },
    {
      "cell_type": "markdown",
      "source": [
        "6. Contar la Cantidad de Vocales en una Cadena de Texto: Utilizar un bucle for y una condicional para contar cuántas vocales hay en una cadena de texto ingresada por el usuario."
      ],
      "metadata": {
        "id": "CLv57uum2oEY"
      }
    },
    {
      "cell_type": "code",
      "source": [
        "# Contar las vocales en un texto\n",
        "\n",
        "def contar_vocales(cadena):\n",
        "    # Definir las vocales\n",
        "    vocales = \"aeiouAEIOU\"\n",
        "    # Inicializar el contador\n",
        "    contador = 0\n",
        "\n",
        "    # Iterar a través de cada carácter en la cadena\n",
        "    for caracter in cadena:\n",
        "        # Verificar si el carácter es una vocal\n",
        "        if caracter in vocales:\n",
        "            contador += 1\n",
        "\n",
        "    return contador\n",
        "\n",
        "# Ejemplo de uso\n",
        "cadena = input(\"Ingresa una cadena de texto: \")\n",
        "cantidad_vocales = contar_vocales(cadena)\n",
        "print(f\"La cantidad de vocales en la cadena es: {cantidad_vocales}\")\n"
      ],
      "metadata": {
        "colab": {
          "base_uri": "https://localhost:8080/"
        },
        "id": "0lYkFDtp2t07",
        "outputId": "bf14edb0-00de-47ce-d9ca-63d27013a0da"
      },
      "execution_count": 9,
      "outputs": [
        {
          "output_type": "stream",
          "name": "stdout",
          "text": [
            "Ingresa una cadena de texto: La mañana de hoy esta muy agradable\n",
            "La cantidad de vocales en la cadena es: 13\n"
          ]
        }
      ]
    },
    {
      "cell_type": "markdown",
      "source": [
        "7. Calcular el Factorial de un Número: Usar un bucle while para calcular el factorial de un número ingresado por el usuario. El factorial de un número n (n!) es el producto de todos los números enteros positivos menores o iguales a n."
      ],
      "metadata": {
        "id": "MTIMy35T4xQh"
      }
    },
    {
      "cell_type": "code",
      "source": [
        "# Calcular el Factorial de un número\n",
        "\n",
        "numero = int(input(\"Ingresa un número: \"))\n",
        "def factorial(n):\n",
        "    # Inicializar el resultado\n",
        "    resultado = 1\n",
        "\n",
        "    # Usar un bucle while para calcular el factorial\n",
        "    while n > 0:\n",
        "        resultado *= n\n",
        "        n -= 1\n",
        "\n",
        "    return resultado\n",
        "\n",
        "print(f\"El factorial de {numero} es {factorial(numero)}\")\n"
      ],
      "metadata": {
        "colab": {
          "base_uri": "https://localhost:8080/"
        },
        "id": "OxJS_l_O405D",
        "outputId": "500e5363-3e64-4b03-a620-001b593ac149"
      },
      "execution_count": 14,
      "outputs": [
        {
          "output_type": "stream",
          "name": "stdout",
          "text": [
            "Ingresa un número: 6\n",
            "El factorial de 6 es 720\n"
          ]
        }
      ]
    }
  ]
}